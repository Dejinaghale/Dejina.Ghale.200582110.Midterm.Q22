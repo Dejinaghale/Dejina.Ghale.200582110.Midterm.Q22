{
 "cells": [
  {
   "cell_type": "code",
   "execution_count": null,
   "id": "postal-parcel",
   "metadata": {},
   "outputs": [],
   "source": [
    "Ice Cream\n",
    "Cake\n",
    "Brownie\n",
    "Pie\n",
    "Cookies\n",
    "\n",
    "CREATE TABLE DessertRankings\n",
    "(\n",
    "  DessertName NVARCHAR(50),\n",
    "  ThomasRanking INT,\n",
    "  MyRanking INT\n",
    ");\n",
    "\n",
    "INSERT INTO DessertRankings (DessertName, ThomasRanking, MyRanking) VALUES\n",
    "('Brownie', 2, 3),\n",
    "('Cake', 1, 2),\n",
    "('Ice Cream', 3, 1),\n",
    "('Pie', 5, 4),\n",
    "('Cookies', 4, 5);\n",
    "\n",
    "SELECT * FROM DessertRankings\n",
    "WHERE ThomasRanking = 1 OR MyRanking = 1;\n",
    "\n",
    "\n",
    "SELECT * FROM DessertRankings\n",
    "ORDER BY MyRanking ASC;\n",
    "\n"
   ]
  }
 ],
 "metadata": {
  "kernelspec": {
   "display_name": "Python 3",
   "language": "python",
   "name": "python3"
  },
  "language_info": {
   "codemirror_mode": {
    "name": "ipython",
    "version": 3
   },
   "file_extension": ".py",
   "mimetype": "text/x-python",
   "name": "python",
   "nbconvert_exporter": "python",
   "pygments_lexer": "ipython3",
   "version": "3.9.1"
  }
 },
 "nbformat": 4,
 "nbformat_minor": 5
}
